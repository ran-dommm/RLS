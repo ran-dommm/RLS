{
 "cells": [
  {
   "cell_type": "code",
   "execution_count": 3,
   "metadata": {},
   "outputs": [
    {
     "name": "stdout",
     "output_type": "stream",
     "text": [
      "配置文件生成完成。\n"
     ]
    }
   ],
   "source": [
    "import os\n",
    "import yaml\n",
    "\n",
    "# 参数范围\n",
    "gamma_range = [round(i * 0.1, 1) for i in range(1, 3)]\n",
    "beta_range = [round(i * 0.1, 1) for i in range(1, 6)]\n",
    "spread_steps_range = list(range(15, 26))\n",
    "total_cut_ration_range = [round(i * 0.1, 1) for i in range(1, 6)]\n",
    "\n",
    "# 生成配置文件\n",
    "for gamma in gamma_range:\n",
    "    for beta in beta_range:\n",
    "        if beta > gamma:\n",
    "            for spread_steps in spread_steps_range:\n",
    "                for total_cut_ration in total_cut_ration_range:\n",
    "                    config = {\n",
    "                        'data_source': 'twitter',\n",
    "                        'spread': {\n",
    "                            'model': 'SIR',\n",
    "                            'beta': beta,\n",
    "                            'gamma': gamma,\n",
    "                            'spread_steps': spread_steps,\n",
    "                            'fix_seed': True,\n",
    "                            'total_cut_ration': total_cut_ration,\n",
    "                            'simulation_count': 10,\n",
    "                            'reward': {\n",
    "                                'a1': 1,\n",
    "                                'a2': 0\n",
    "                            }\n",
    "                        },\n",
    "                        'agent_specs': {\n",
    "                            'batch_stage': False\n",
    "                        },\n",
    "                        'gamma': 1,\n",
    "                        'tau': 0.0,\n",
    "                        'state_encoder_specs': {\n",
    "                            'state_encoder_hidden_size': [16, 8],\n",
    "                            'gcn_node_dim': 16,\n",
    "                            'num_gcn_layers': 2,\n",
    "                            'num_edge_fc_layers': 2,\n",
    "                            'max_num_nodes': 2000,\n",
    "                            'max_num_edges': 3000,\n",
    "                            'num_attention_heads': 2\n",
    "                        },\n",
    "                        'policy_specs': {\n",
    "                            'policy_land_use_head_hidden_size': [32, 1],\n",
    "                            'policy_road_head_hidden_size': [32, 1]\n",
    "                        },\n",
    "                        'value_specs': {\n",
    "                            'value_head_hidden_size': [32, 32, 1]\n",
    "                        },\n",
    "                        'lr': 4.0e-4,\n",
    "                        'weightdecay': 0.0,\n",
    "                        'eps': 1.0e-5,\n",
    "                        'value_pred_coef': 0.5,\n",
    "                        'entropy_coef': 0.01,\n",
    "                        'clip_epsilon': 0.2,\n",
    "                        'max_num_iterations': 100,\n",
    "                        'num_episodes_per_iteration': 200,\n",
    "                        'max_sequence_length': 100,\n",
    "                        'num_optim_epoch': 2,\n",
    "                        'mini_batch_size': 1024,\n",
    "                        'save_model_interval': 5\n",
    "                    }\n",
    "\n",
    "                    # 生成文件名\n",
    "                    filename = f\"./all/twitter_{beta}&{gamma}_{spread_steps}_{total_cut_ration}.yaml\"\n",
    "\n",
    "                    # 保存配置文件\n",
    "                    with open(filename, 'w') as file:\n",
    "                        yaml.dump(config, file)\n",
    "\n",
    "print(\"配置文件生成完成。\")\n"
   ]
  },
  {
   "cell_type": "code",
   "execution_count": 3,
   "metadata": {},
   "outputs": [
    {
     "name": "stdout",
     "output_type": "stream",
     "text": [
      "Done. Updated simulation_count to 10 in all .yaml files.\n"
     ]
    }
   ],
   "source": [
    "import os\n",
    "import yaml\n",
    "\n",
    "# 获取当前文件夹下所有.yaml文件\n",
    "yaml_files = [file for file in os.listdir() if file.endswith(\".yaml\")]\n",
    "\n",
    "# 遍历每个.yaml文件并修改simulation_count字段\n",
    "for file in yaml_files:\n",
    "    with open(file, \"r\") as f:\n",
    "        config = yaml.load(f, Loader=yaml.FullLoader)\n",
    "        \n",
    "    # config[\"spread\"][\"spread_steps\"] = 8\n",
    "\n",
    "    # config['spread']['edge_direction'] = True\n",
    "    # config['mini_batch_size'] = 512\n",
    "    # config['gamma'] = 0.99\n",
    "    # config['num_episodes_per_iteration'] = 200\n",
    "    # config['max_num_iterations'] = 100\n",
    "\n",
    "    config['state_encoder_specs']['gcn_node_dim'] = 8\n",
    "    config['state_encoder_specs']['gcn_edge_dim'] = 2\n",
    "\n",
    "    with open(file, \"w\") as f:\n",
    "        yaml.dump(config, f)\n",
    "\n",
    "print(\"Done. Updated simulation_count to 10 in all .yaml files.\")\n"
   ]
  }
 ],
 "metadata": {
  "kernelspec": {
   "display_name": "torch-1.9.0-py37",
   "language": "python",
   "name": "python3"
  },
  "language_info": {
   "codemirror_mode": {
    "name": "ipython",
    "version": 3
   },
   "file_extension": ".py",
   "mimetype": "text/x-python",
   "name": "python",
   "nbconvert_exporter": "python",
   "pygments_lexer": "ipython3",
   "version": "3.7.13"
  }
 },
 "nbformat": 4,
 "nbformat_minor": 2
}
